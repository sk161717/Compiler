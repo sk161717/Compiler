{
 "cells": [
  {
   "cell_type": "markdown",
   "metadata": {},
   "source": [
    "# 課題: 構文木をprintする"
   ]
  },
  {
   "cell_type": "markdown",
   "metadata": {},
   "source": [
    "# 1. 与えられたコード / Given Code\n",
    "\n",
    "* cc_ast.mll : 構文木定義\n",
    "* cc_parse.mly : 構文定義 (ocamlyacc/menhirのコード)\n",
    "* cc_lex.mll : 字句解析器 (ocamllexのコード)\n",
    "* cc_ast_print.ml : 構文木をprintする関数のスケルトン\n",
    "* cc.mll : メイン関数"
   ]
  },
  {
   "cell_type": "code",
   "execution_count": 1,
   "metadata": {},
   "outputs": [
    {
     "name": "stdout",
     "output_type": "stream",
     "text": [
      "Makefile\n",
      "cc.ml\n",
      "cc_ast.ml\n",
      "cc_ast_print.ml\n",
      "cc_lex.mll\n",
      "cc_parse.mly\n",
      "ex09_3_cc_print.c.ipynb\n",
      "test\n"
     ]
    }
   ],
   "source": [
    "/* ----- 実行せよ / Execute this cell ----- */\n",
    "//% cmd: ls"
   ]
  },
  {
   "cell_type": "markdown",
   "metadata": {},
   "source": [
    "# ビルド"
   ]
  },
  {
   "cell_type": "code",
   "execution_count": 2,
   "metadata": {},
   "outputs": [
    {
     "name": "stdout",
     "output_type": "stream",
     "text": [
      "ocamlbuild -use-menhir cc.byte\n",
      "ocamldep.opt -modules cc.ml > cc.ml.depends\n",
      "ocamldep.opt -modules cc_ast_print.ml > cc_ast_print.ml.depends\n",
      "ocamldep.opt -modules cc_ast.ml > cc_ast.ml.depends\n",
      "ocamlc.opt -c -o cc_ast.cmo cc_ast.ml\n",
      "ocamllex.opt -q cc_lex.mll\n",
      "ocamldep.opt -modules cc_lex.ml > cc_lex.ml.depends\n",
      "menhir --raw-depend --ocamldep 'ocamldep.opt -modules' cc_parse.mly > cc_parse.mly.depends\n",
      "menhir --ocamlc ocamlc.opt --infer cc_parse.mly\n",
      "+ menhir --ocamlc ocamlc.opt --infer cc_parse.mly\n",
      "Warning: one state has shift/reduce conflicts.\n",
      "Warning: one shift/reduce conflict was arbitrarily resolved.\n",
      "ocamldep.opt -modules cc_parse.mli > cc_parse.mli.depends\n",
      "ocamlc.opt -c -o cc_parse.cmi cc_parse.mli\n",
      "ocamlc.opt -c -o cc_ast_print.cmo cc_ast_print.ml\n",
      "ocamlc.opt -c -o cc_lex.cmo cc_lex.ml\n",
      "ocamlc.opt -c -o cc.cmo cc.ml\n",
      "ocamldep.opt -modules cc_parse.ml > cc_parse.ml.depends\n",
      "ocamlc.opt -c -o cc_parse.cmo cc_parse.ml\n",
      "ocamlc.opt cc_ast.cmo cc_ast_print.cmo cc_parse.cmo cc_lex.cmo cc.cmo -o cc.byte\n",
      "echo  > cc.top\n",
      "echo \"ocaml -I _build _build/cc_ast.cmo _build/cc_parse.cmo _build/cc_lex.cmo cc_ast_print.cmo _build/cc.cmo\" >> cc.top\n",
      "chmod +x cc.top\n",
      "ocamlbuild -use-menhir cc.native\n",
      "ocamlopt.opt -c -o cc_ast.cmx cc_ast.ml\n",
      "ocamlopt.opt -c -o cc_parse.cmx cc_parse.ml\n",
      "ocamlopt.opt -c -o cc_ast_print.cmx cc_ast_print.ml\n",
      "ocamlopt.opt -c -o cc_lex.cmx cc_lex.ml\n",
      "ocamlopt.opt -c -o cc.cmx cc.ml\n",
      "ocamlopt.opt cc_ast.cmx cc_ast_print.cmx cc_parse.cmx cc_lex.cmx cc.cmx -o cc.native\n"
     ]
    }
   ],
   "source": [
    "/* ----- 実行せよ / Execute this cell ----- */\n",
    "//% cmd: make"
   ]
  },
  {
   "cell_type": "markdown",
   "metadata": {},
   "source": [
    "# 再ビルド"
   ]
  },
  {
   "cell_type": "code",
   "execution_count": 114,
   "metadata": {},
   "outputs": [
    {
     "name": "stdout",
     "output_type": "stream",
     "text": [
      "rm -rf _build cc.top cc.byte cc.native\n"
     ]
    }
   ],
   "source": [
    "/* ----- 実行せよ / Execute this cell ----- */\n",
    "//% cmd: make clean"
   ]
  },
  {
   "cell_type": "code",
   "execution_count": 115,
   "metadata": {},
   "outputs": [
    {
     "name": "stdout",
     "output_type": "stream",
     "text": [
      "ocamlbuild -use-menhir cc.byte\n",
      "ocamldep.opt -modules cc.ml > cc.ml.depends\n",
      "ocamldep.opt -modules cc_ast_print.ml > cc_ast_print.ml.depends\n",
      "ocamldep.opt -modules cc_ast.ml > cc_ast.ml.depends\n",
      "ocamlc.opt -c -o cc_ast.cmo cc_ast.ml\n",
      "ocamllex.opt -q cc_lex.mll\n",
      "ocamldep.opt -modules cc_lex.ml > cc_lex.ml.depends\n",
      "menhir --raw-depend --ocamldep 'ocamldep.opt -modules' cc_parse.mly > cc_parse.mly.depends\n",
      "menhir --ocamlc ocamlc.opt --infer cc_parse.mly\n",
      "+ menhir --ocamlc ocamlc.opt --infer cc_parse.mly\n",
      "Warning: one state has shift/reduce conflicts.\n",
      "Warning: one shift/reduce conflict was arbitrarily resolved.\n",
      "ocamldep.opt -modules cc_parse.mli > cc_parse.mli.depends\n",
      "ocamlc.opt -c -o cc_parse.cmi cc_parse.mli\n",
      "ocamlc.opt -c -o cc_ast_print.cmo cc_ast_print.ml\n",
      "ocamlc.opt -c -o cc_lex.cmo cc_lex.ml\n",
      "ocamlc.opt -c -o cc.cmo cc.ml\n",
      "ocamldep.opt -modules cc_parse.ml > cc_parse.ml.depends\n",
      "ocamlc.opt -c -o cc_parse.cmo cc_parse.ml\n",
      "ocamlc.opt cc_ast.cmo cc_ast_print.cmo cc_parse.cmo cc_lex.cmo cc.cmo -o cc.byte\n",
      "echo  > cc.top\n",
      "echo \"ocaml -I _build _build/cc_ast.cmo _build/cc_parse.cmo _build/cc_lex.cmo cc_ast_print.cmo _build/cc.cmo\" >> cc.top\n",
      "chmod +x cc.top\n",
      "ocamlbuild -use-menhir cc.native\n",
      "ocamlopt.opt -c -o cc_ast.cmx cc_ast.ml\n",
      "ocamlopt.opt -c -o cc_parse.cmx cc_parse.ml\n",
      "ocamlopt.opt -c -o cc_ast_print.cmx cc_ast_print.ml\n",
      "ocamlopt.opt -c -o cc_lex.cmx cc_lex.ml\n",
      "ocamlopt.opt -c -o cc.cmx cc.ml\n",
      "ocamlopt.opt cc_ast.cmx cc_ast_print.cmx cc_parse.cmx cc_lex.cmx cc.cmx -o cc.native\n"
     ]
    }
   ],
   "source": [
    "/* ----- 実行せよ / Execute this cell ----- */\n",
    "//% cmd: make"
   ]
  },
  {
   "cell_type": "markdown",
   "metadata": {},
   "source": [
    "# 2. 実行\n",
    "\n",
    "* そのまま実行すると, 例外が発生する"
   ]
  },
  {
   "cell_type": "code",
   "execution_count": 116,
   "metadata": {},
   "outputs": [
    {
     "name": "stdout",
     "output_type": "stream",
     "text": [
      "long gcd(long a, long b) {\n",
      "    if (a > b) return gcd(b,a);\n",
      "    while (a != 0) {\n",
      "        r = b % a;\n",
      "        b = a;\n",
      "        a = r;\n",
      "    }\n",
      "    return b;\n",
      "}\n"
     ]
    }
   ],
   "source": [
    "/* ----- 実行してエラーを見よ / Execute this cell and see an error ----- */\n",
    "//% cmd: ./cc.byte test/a.c"
   ]
  },
  {
   "cell_type": "markdown",
   "metadata": {},
   "source": [
    "* 例外を発しているのは以下の string_of_program 関数\n",
    "\n",
    "```\n",
    "exception Not_implemented of string\n",
    ";;\n",
    "(* これを実装するのが役目 *)\n",
    "let rec string_of_program (program : definition list) =\n",
    "  raise (Not_implemented\n",
    "           \"<not implemented> you should implement the print function in cc_ast_print.ml\\n\")\n",
    ";;\n",
    "```\n",
    "* この関数は program の構文木を文字列(Cのプログラムテキスト)に変換することを意図している"
   ]
  },
  {
   "cell_type": "markdown",
   "metadata": {},
   "source": [
    "# (準備)課題 1 \n",
    "\n",
    "* cc_ast_print.ml の string_of_program 関数の中身実装して, program の構文木をCのプログラム(文字列)に変換せよ\n",
    "\n",
    "ヒント:\n",
    "\n",
    "* 必要に応じて他の種類の構文木を文字列に変換する関数も追加する\n",
    "* 例えば string_of_definition, string_of_stmt, string_of_expr, などを作ることになるだろう\n",
    "* match 構文を多用する\n",
    "* OCamlで文字列を連結する演算子は a ^ b\n",
    "* その他の文字列関数は <a href=\"https://caml.inria.fr/pub/docs/manual-ocaml/libref/String.html\"> https://caml.inria.fr/pub/docs/manual-ocaml/libref/String.html </a>"
   ]
  },
  {
   "cell_type": "code",
   "execution_count": 117,
   "metadata": {},
   "outputs": [
    {
     "name": "stdout",
     "output_type": "stream",
     "text": [
      "long gcd(long a, long b) {\n",
      "    if (a > b) return gcd(b,a);\n",
      "    while (a != 0) {\n",
      "        r = b % a;\n",
      "        b = a;\n",
      "        a = r;\n",
      "    }\n",
      "    return b;\n",
      "}\n"
     ]
    }
   ],
   "source": [
    "/* ----- 以下で書いたコードをテストせよ / Test your code here ----- */\n",
    "//% cmd: ./cc.byte test/a.c"
   ]
  },
  {
   "cell_type": "code",
   "execution_count": null,
   "metadata": {},
   "outputs": [],
   "source": []
  }
 ],
 "metadata": {
  "kernelspec": {
   "display_name": "C",
   "language": "c",
   "name": "c_kernel"
  },
  "language_info": {
   "file_extension": ".c",
   "mimetype": "text/plain",
   "name": "c"
  }
 },
 "nbformat": 4,
 "nbformat_minor": 2
}
