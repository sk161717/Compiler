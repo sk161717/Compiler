{
 "cells": [
  {
   "cell_type": "markdown",
   "metadata": {},
   "source": [
    "# Cの字句解析器"
   ]
  },
  {
   "cell_type": "markdown",
   "metadata": {},
   "source": [
    "# 1. 与えられたコード / Given Code\n",
    "\n",
    "* cc_lex.mll : 字句解析器 (ocamllexのコード)"
   ]
  },
  {
   "cell_type": "code",
   "execution_count": 1,
   "metadata": {},
   "outputs": [
    {
     "name": "stdout",
     "output_type": "stream",
     "text": [
      "Makefile\n",
      "cc_lex.mll\n",
      "ex09_1_cc_lex.c.ipynb\n"
     ]
    }
   ],
   "source": [
    "/* ----- 実行せよ / Execute this cell ----- */\n",
    "//% cmd: ls"
   ]
  },
  {
   "cell_type": "markdown",
   "metadata": {},
   "source": [
    "# ビルド"
   ]
  },
  {
   "cell_type": "code",
   "execution_count": 2,
   "metadata": {},
   "outputs": [
    {
     "name": "stdout",
     "output_type": "stream",
     "text": [
      "ocamlbuild cc_lex.byte\n",
      "ocamllex.opt -q cc_lex.mll\n",
      "ocamldep.opt -modules cc_lex.ml > cc_lex.ml.depends\n",
      "ocamlc.opt -c -o cc_lex.cmo cc_lex.ml\n",
      "ocamlc.opt cc_lex.cmo -o cc_lex.byte\n",
      "echo  > cc_lex.top\n",
      "echo \"ocaml -I _build _build/cc_lex.cmo\" >> cc_lex.top\n",
      "chmod +x cc_lex.top\n",
      "ocamlbuild cc_lex.native\n",
      "ocamlopt.opt -c -o cc_lex.cmx cc_lex.ml\n",
      "ocamlopt.opt cc_lex.cmx -o cc_lex.native\n"
     ]
    }
   ],
   "source": [
    "/* ----- 実行せよ / Execute this cell ----- */\n",
    "//% cmd: make"
   ]
  },
  {
   "cell_type": "markdown",
   "metadata": {},
   "source": [
    "# 再ビルド"
   ]
  },
  {
   "cell_type": "code",
   "execution_count": 3,
   "metadata": {},
   "outputs": [
    {
     "name": "stdout",
     "output_type": "stream",
     "text": [
      "rm -rf _build cc_lex.top cc_lex.byte cc_lex.native\n"
     ]
    }
   ],
   "source": [
    "/* ----- 実行せよ / Execute this cell ----- */\n",
    "//% cmd: make clean"
   ]
  },
  {
   "cell_type": "code",
   "execution_count": 4,
   "metadata": {},
   "outputs": [
    {
     "name": "stdout",
     "output_type": "stream",
     "text": [
      "ocamlbuild cc_lex.byte\n",
      "ocamllex.opt -q cc_lex.mll\n",
      "ocamldep.opt -modules cc_lex.ml > cc_lex.ml.depends\n",
      "ocamlc.opt -c -o cc_lex.cmo cc_lex.ml\n",
      "ocamlc.opt cc_lex.cmo -o cc_lex.byte\n",
      "echo  > cc_lex.top\n",
      "echo \"ocaml -I _build _build/cc_lex.cmo\" >> cc_lex.top\n",
      "chmod +x cc_lex.top\n",
      "ocamlbuild cc_lex.native\n",
      "ocamlopt.opt -c -o cc_lex.cmx cc_lex.ml\n",
      "ocamlopt.opt cc_lex.cmx -o cc_lex.native\n"
     ]
    }
   ],
   "source": [
    "/* ----- 実行せよ / Execute this cell ----- */\n",
    "//% cmd: make"
   ]
  },
  {
   "cell_type": "markdown",
   "metadata": {},
   "source": [
    "# 2. 実行"
   ]
  },
  {
   "cell_type": "code",
   "execution_count": 5,
   "metadata": {},
   "outputs": [
    {
     "name": "stdout",
     "output_type": "stream",
     "text": [
      "LONG\n",
      "ID(p)\n",
      "EQ\n",
      "ID(q)\n",
      "PLUS\n",
      "ID(r)\n",
      "SEMICOLON\n",
      "EOF\n"
     ]
    }
   ],
   "source": [
    "/* ----- 実行せよ / Execute this cell ----- */\n",
    "//% cmd: ./cc_lex.byte \"long p = q + r;\""
   ]
  },
  {
   "cell_type": "code",
   "execution_count": 6,
   "metadata": {},
   "outputs": [
    {
     "name": "stdout",
     "output_type": "stream",
     "text": [
      "ELSE\n",
      "ID(elsex)\n",
      "ID(if0123)\n",
      "BREAK\n",
      "CONTINUE\n",
      "EOF\n"
     ]
    }
   ],
   "source": [
    "/* ----- 実行せよ / Execute this cell ----- */\n",
    "//% cmd: ./cc_lex.byte \"else elsex if0123 break continue\""
   ]
  },
  {
   "cell_type": "markdown",
   "metadata": {},
   "source": [
    "* cc_lex.top は対話的処理系(開発, デバッグに便利)\n",
    "* Jupyter 上では実行しないこと (SSH, terminalで実行する)\n",
    "\n",
    "\n",
    "```\n",
    "$ ./cc_lex.top \n",
    "        OCaml version 4.08.1\n",
    "\n",
    "# Cc_lex.lex_string \"long f(long x) { return x + 1; }\";;\n",
    "LONG\n",
    "ID(f)\n",
    "LPAREN\n",
    "LONG\n",
    "ID(x)\n",
    "RPAREN\n",
    "LBRACE\n",
    "RETURN\n",
    "ID(x)\n",
    "PLUS\n",
    "NUM(1)\n",
    "SEMICOLON\n",
    "RBRACE\n",
    "EOF\n",
    "- : unit = ()\n",
    "```"
   ]
  }
 ],
 "metadata": {
  "kernelspec": {
   "display_name": "C",
   "language": "c",
   "name": "c_kernel"
  },
  "language_info": {
   "file_extension": ".c",
   "mimetype": "text/plain",
   "name": "c"
  }
 },
 "nbformat": 4,
 "nbformat_minor": 2
}
