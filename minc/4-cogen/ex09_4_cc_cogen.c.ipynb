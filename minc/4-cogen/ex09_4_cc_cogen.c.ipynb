{
 "cells": [
  {
   "cell_type": "markdown",
   "metadata": {},
   "source": [
    "# 課題: コード生成"
   ]
  },
  {
   "cell_type": "markdown",
   "metadata": {},
   "source": [
    "# 1. 与えられたコード / Given Code\n",
    "\n",
    "* cc_ast.mll : 構文木定義\n",
    "* cc_parse.mly : 構文定義 (ocamlyacc/menhirのコード)\n",
    "* cc_lex.mll : 字句解析器 (ocamllexのコード)\n",
    "* cc_cogen.ml : コード生成のスケルトン\n",
    "* cc.mll : メイン関数"
   ]
  },
  {
   "cell_type": "code",
   "execution_count": 1,
   "metadata": {},
   "outputs": [
    {
     "name": "stdout",
     "output_type": "stream",
     "text": [
      "Makefile\n",
      "cc.ml\n",
      "cc_ast.ml\n",
      "cc_cogen.ml\n",
      "cc_lex.mll\n",
      "cc_parse.mly\n",
      "ex09_4_cc_cogen.c.ipynb\n",
      "test.mk\n"
     ]
    }
   ],
   "source": [
    "/* ----- 実行せよ / Execute this cell ----- */\n",
    "//% cmd: ls"
   ]
  },
  {
   "cell_type": "markdown",
   "metadata": {},
   "source": [
    "# ビルド"
   ]
  },
  {
   "cell_type": "code",
   "execution_count": 2,
   "metadata": {},
   "outputs": [
    {
     "name": "stdout",
     "output_type": "stream",
     "text": [
      "ocamlbuild -use-menhir cc.byte\n",
      "ocamldep.opt -modules cc.ml > cc.ml.depends\n",
      "ocamldep.opt -modules cc_cogen.ml > cc_cogen.ml.depends\n",
      "ocamllex.opt -q cc_lex.mll\n",
      "ocamldep.opt -modules cc_lex.ml > cc_lex.ml.depends\n",
      "menhir --raw-depend --ocamldep 'ocamldep.opt -modules' cc_parse.mly > cc_parse.mly.depends\n",
      "ocamldep.opt -modules cc_ast.ml > cc_ast.ml.depends\n",
      "ocamlc.opt -c -o cc_ast.cmo cc_ast.ml\n",
      "menhir --ocamlc ocamlc.opt --infer cc_parse.mly\n",
      "+ menhir --ocamlc ocamlc.opt --infer cc_parse.mly\n",
      "Warning: one state has shift/reduce conflicts.\n",
      "Warning: one shift/reduce conflict was arbitrarily resolved.\n",
      "ocamldep.opt -modules cc_parse.mli > cc_parse.mli.depends\n",
      "ocamlc.opt -c -o cc_parse.cmi cc_parse.mli\n",
      "ocamlc.opt -c -o cc_cogen.cmo cc_cogen.ml\n",
      "ocamlc.opt -c -o cc_lex.cmo cc_lex.ml\n",
      "ocamlc.opt -c -o cc.cmo cc.ml\n",
      "ocamldep.opt -modules cc_parse.ml > cc_parse.ml.depends\n",
      "ocamlc.opt -c -o cc_parse.cmo cc_parse.ml\n",
      "ocamlc.opt cc_cogen.cmo cc_ast.cmo cc_parse.cmo cc_lex.cmo cc.cmo -o cc.byte\n",
      "echo  > cc.top\n",
      "echo \"ocaml -I _build _build/cc_ast.cmo _build/cc_parse.cmo _build/cc_lex.cmo _build/cc_cogen.cmo _build/cc.cmo\" >> cc.top\n",
      "chmod +x cc.top\n",
      "ocamlbuild -use-menhir cc.native\n",
      "ocamlopt.opt -c -o cc_ast.cmx cc_ast.ml\n",
      "ocamlopt.opt -c -o cc_parse.cmx cc_parse.ml\n",
      "ocamlopt.opt -c -o cc_cogen.cmx cc_cogen.ml\n",
      "ocamlopt.opt -c -o cc_lex.cmx cc_lex.ml\n",
      "ocamlopt.opt -c -o cc.cmx cc.ml\n",
      "ocamlopt.opt cc_ast.cmx cc_cogen.cmx cc_parse.cmx cc_lex.cmx cc.cmx -o cc.native\n"
     ]
    }
   ],
   "source": [
    "/* ----- 実行せよ / Execute this cell ----- */\n",
    "//% cmd: make"
   ]
  },
  {
   "cell_type": "markdown",
   "metadata": {},
   "source": [
    "# 再ビルド"
   ]
  },
  {
   "cell_type": "code",
   "execution_count": 593,
   "metadata": {},
   "outputs": [
    {
     "name": "stdout",
     "output_type": "stream",
     "text": [
      "rm -rf _build cc.top cc.byte cc.native\n"
     ]
    }
   ],
   "source": [
    "/* ----- 実行せよ / Execute this cell ----- */\n",
    "//% cmd: make clean"
   ]
  },
  {
   "cell_type": "code",
   "execution_count": 594,
   "metadata": {},
   "outputs": [
    {
     "name": "stdout",
     "output_type": "stream",
     "text": [
      "ocamlbuild -use-menhir cc.byte\n",
      "ocamldep.opt -modules cc.ml > cc.ml.depends\n",
      "ocamldep.opt -modules cc_cogen.ml > cc_cogen.ml.depends\n",
      "ocamldep.opt -modules cc_ast.ml > cc_ast.ml.depends\n",
      "ocamlc.opt -c -o cc_ast.cmo cc_ast.ml\n",
      "ocamllex.opt -q cc_lex.mll\n",
      "ocamldep.opt -modules cc_lex.ml > cc_lex.ml.depends\n",
      "menhir --raw-depend --ocamldep 'ocamldep.opt -modules' cc_parse.mly > cc_parse.mly.depends\n",
      "menhir --ocamlc ocamlc.opt --infer cc_parse.mly\n",
      "+ menhir --ocamlc ocamlc.opt --infer cc_parse.mly\n",
      "Warning: one state has shift/reduce conflicts.\n",
      "Warning: one shift/reduce conflict was arbitrarily resolved.\n",
      "ocamldep.opt -modules cc_parse.mli > cc_parse.mli.depends\n",
      "ocamlc.opt -c -o cc_parse.cmi cc_parse.mli\n",
      "ocamlc.opt -c -o cc_cogen.cmo cc_cogen.ml\n",
      "+ ocamlc.opt -c -o cc_cogen.cmo cc_cogen.ml\n",
      "File \"cc_cogen.ml\", line 198, characters 16-505:\n",
      "Warning 8: this pattern-matching is not exhaustive.\n",
      "Here is an example of a case that is not matched:\n",
      "(EXPR_NUM _|EXPR_BIN_OP (_, _, _)|EXPR_UN_OP (_, _))\n",
      "File \"cc_cogen.ml\", line 235, characters 4-2352:\n",
      "Warning 8: this pattern-matching is not exhaustive.\n",
      "Here is an example of a case that is not matched:\n",
      "(STMT_CONTINUE|STMT_BREAK)\n",
      "ocamlc.opt -c -o cc_lex.cmo cc_lex.ml\n",
      "ocamlc.opt -c -o cc.cmo cc.ml\n",
      "ocamldep.opt -modules cc_parse.ml > cc_parse.ml.depends\n",
      "ocamlc.opt -c -o cc_parse.cmo cc_parse.ml\n",
      "ocamlc.opt cc_ast.cmo cc_cogen.cmo cc_parse.cmo cc_lex.cmo cc.cmo -o cc.byte\n",
      "echo  > cc.top\n",
      "echo \"ocaml -I _build _build/cc_ast.cmo _build/cc_parse.cmo _build/cc_lex.cmo _build/cc_cogen.cmo _build/cc.cmo\" >> cc.top\n",
      "chmod +x cc.top\n",
      "ocamlbuild -use-menhir cc.native\n",
      "ocamlopt.opt -c -o cc_ast.cmx cc_ast.ml\n",
      "ocamlopt.opt -c -o cc_parse.cmx cc_parse.ml\n",
      "ocamlopt.opt -c -o cc_cogen.cmx cc_cogen.ml\n",
      "+ ocamlopt.opt -c -o cc_cogen.cmx cc_cogen.ml\n",
      "File \"cc_cogen.ml\", line 198, characters 16-505:\n",
      "Warning 8: this pattern-matching is not exhaustive.\n",
      "Here is an example of a case that is not matched:\n",
      "(EXPR_NUM _|EXPR_BIN_OP (_, _, _)|EXPR_UN_OP (_, _))\n",
      "File \"cc_cogen.ml\", line 235, characters 4-2352:\n",
      "Warning 8: this pattern-matching is not exhaustive.\n",
      "Here is an example of a case that is not matched:\n",
      "(STMT_CONTINUE|STMT_BREAK)\n",
      "ocamlopt.opt -c -o cc_lex.cmx cc_lex.ml\n",
      "ocamlopt.opt -c -o cc.cmx cc.ml\n",
      "ocamlopt.opt cc_ast.cmx cc_cogen.cmx cc_parse.cmx cc_lex.cmx cc.cmx -o cc.native\n"
     ]
    }
   ],
   "source": [
    "/* ----- 実行せよ / Execute this cell ----- */\n",
    "//% cmd: make"
   ]
  },
  {
   "cell_type": "markdown",
   "metadata": {},
   "source": [
    "# 2. 実行\n",
    "\n",
    "* そのまま実行すると, 例外が発生する"
   ]
  },
  {
   "cell_type": "code",
   "execution_count": 209,
   "metadata": {},
   "outputs": [],
   "source": [
    "/* ----- 実行してエラーを見よ / Execute this cell and see an error ----- */\n",
    "//% cmd: ./cc.byte ../test/fun.c fun.s"
   ]
  },
  {
   "cell_type": "markdown",
   "metadata": {},
   "source": [
    "* 例外を発しているのは以下の cogen_program 関数\n",
    "\n",
    "```\n",
    "exception Not_implemented of string\n",
    ";;\n",
    "(* これを実装するのが役目 *)\n",
    "let rec cogen_program program src_name =\n",
    "  raise (Not_implemented\n",
    "           \"<not implemented> you should implement cogen_program in cc_cogen.ml\\n\")\n",
    ";;\n",
    "```\n",
    "* この関数は program の構文木をアセンブリ言語に変換することを意図している"
   ]
  },
  {
   "cell_type": "markdown",
   "metadata": {},
   "source": [
    "# 本番課題 1 \n",
    "\n",
    "* cc_cogen.ml の cogen_program 関数の中身を実装して, program の構文木からアセンブリ言語の文字列を返すようにせよ\n",
    "\n",
    "ヒント:\n",
    "\n",
    "* 前問同様, 必要に応じて他の種類の構文木をアセンブリ言語に変換する関数も追加する\n",
    "* 例えば cogen_definition, cogen_stmt, cogen_expr, などを作ることになるだろう"
   ]
  },
  {
   "cell_type": "markdown",
   "metadata": {},
   "source": [
    "* テストは簡単なプログラムから始めるのが基本\n",
    "* 簡単なテストプログラムが ../test/fun.c に多数あるので適宜利用して下さい\n",
    "* 以下が実行できればコンパイル自身は出来ていることになる"
   ]
  },
  {
   "cell_type": "code",
   "execution_count": 595,
   "metadata": {},
   "outputs": [],
   "source": [
    "/* ----- 以下で書いたコードをテストせよ / Test your code here ----- */\n",
    "//% cmd: ./cc.byte ../test/fun.c fun.s"
   ]
  },
  {
   "cell_type": "markdown",
   "metadata": {},
   "source": [
    "* 以下で, 生成されたコードが正しく動くか(同じコードをGCCでコンパイルしたときと, コンパイル後のプログラムの出力が同じ)"
   ]
  },
  {
   "cell_type": "code",
   "execution_count": 597,
   "metadata": {},
   "outputs": [
    {
     "name": "stdout",
     "output_type": "stream",
     "text": [
      "make: Nothing to be done for 'all'.\n"
     ]
    }
   ],
   "source": [
    "/* ----- 以下で書いたコードをテストせよ / Test your code here ----- */\n",
    "//% cmd: make -f test.mk"
   ]
  },
  {
   "cell_type": "markdown",
   "metadata": {},
   "source": [
    "# 発展課題 2 (オプション)\n",
    "\n",
    "* mincコンパイラに拡張を施して, より広範囲のプログラムを扱えるようにせよ\n",
    "* 何をしてもよいが, ありそうな候補は以下(以下は易しい順)\n",
    "  * for文をサポートする\n",
    "  * ポインタ型をサポートする\n",
    "    * それに加え「型チェック」(異なる型の間の代入を禁止する)をサポートする\n",
    "    * それに加え型の強制(キャスト)をサポートする\n",
    "  * 浮動小数点数をサポートする\n",
    "  * 構造体をサポートする"
   ]
  }
 ],
 "metadata": {
  "kernelspec": {
   "display_name": "C",
   "language": "c",
   "name": "c_kernel"
  },
  "language_info": {
   "file_extension": ".c",
   "mimetype": "text/plain",
   "name": "c"
  }
 },
 "nbformat": 4,
 "nbformat_minor": 2
}
