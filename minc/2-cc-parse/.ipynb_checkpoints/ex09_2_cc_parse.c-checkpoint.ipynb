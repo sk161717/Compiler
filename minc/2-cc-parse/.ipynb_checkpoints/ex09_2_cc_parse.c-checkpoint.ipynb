{
 "cells": [
  {
   "cell_type": "markdown",
   "metadata": {},
   "source": [
    "# Cの構文解析器"
   ]
  },
  {
   "cell_type": "markdown",
   "metadata": {},
   "source": [
    "# 1. 与えられたコード / Given Code\n",
    "\n",
    "* cc_ast.mll : 構文木定義\n",
    "* cc_parse.mly : 構文定義 (ocamlyacc/menhirのコード)\n",
    "* cc_lex.mll : 字句解析器 (ocamllexのコード)\n",
    "* cc.mll : メイン関数"
   ]
  },
  {
   "cell_type": "code",
   "execution_count": 1,
   "metadata": {},
   "outputs": [
    {
     "name": "stdout",
     "output_type": "stream",
     "text": [
      "Makefile\n",
      "cc.ml\n",
      "cc_ast.ml\n",
      "cc_lex.mll\n",
      "cc_parse.mly\n",
      "ex09_2_cc_parse.c.ipynb\n",
      "test\n"
     ]
    }
   ],
   "source": [
    "/* ----- 実行せよ / Execute this cell ----- */\n",
    "//% cmd: ls"
   ]
  },
  {
   "cell_type": "markdown",
   "metadata": {},
   "source": [
    "# ビルド"
   ]
  },
  {
   "cell_type": "code",
   "execution_count": 2,
   "metadata": {},
   "outputs": [
    {
     "name": "stdout",
     "output_type": "stream",
     "text": [
      "ocamlbuild -use-menhir cc.byte\n",
      "ocamldep.opt -modules cc.ml > cc.ml.depends\n",
      "ocamllex.opt -q cc_lex.mll\n",
      "ocamldep.opt -modules cc_lex.ml > cc_lex.ml.depends\n",
      "menhir --raw-depend --ocamldep 'ocamldep.opt -modules' cc_parse.mly > cc_parse.mly.depends\n",
      "ocamldep.opt -modules cc_ast.ml > cc_ast.ml.depends\n",
      "ocamlc.opt -c -o cc_ast.cmo cc_ast.ml\n",
      "menhir --ocamlc ocamlc.opt --infer cc_parse.mly\n",
      "+ menhir --ocamlc ocamlc.opt --infer cc_parse.mly\n",
      "Warning: one state has shift/reduce conflicts.\n",
      "Warning: one shift/reduce conflict was arbitrarily resolved.\n",
      "ocamldep.opt -modules cc_parse.mli > cc_parse.mli.depends\n",
      "ocamlc.opt -c -o cc_parse.cmi cc_parse.mli\n",
      "ocamlc.opt -c -o cc_lex.cmo cc_lex.ml\n",
      "ocamlc.opt -c -o cc.cmo cc.ml\n",
      "+ ocamlc.opt -c -o cc.cmo cc.ml\n",
      "File \"cc.ml\", line 34, characters 6-7:\n",
      "Warning 26: unused variable t.\n",
      "ocamldep.opt -modules cc_parse.ml > cc_parse.ml.depends\n",
      "ocamlc.opt -c -o cc_parse.cmo cc_parse.ml\n",
      "ocamlc.opt cc_ast.cmo cc_parse.cmo cc_lex.cmo cc.cmo -o cc.byte\n",
      "echo  > cc.top\n",
      "echo \"ocaml -I _build _build/cc_ast.cmo _build/cc_parse.cmo _build/cc_lex.cmo _build/cc.cmo\" >> cc.top\n",
      "chmod +x cc.top\n",
      "ocamlbuild -use-menhir cc.native\n",
      "ocamlopt.opt -c -o cc_ast.cmx cc_ast.ml\n",
      "ocamlopt.opt -c -o cc_parse.cmx cc_parse.ml\n",
      "ocamlopt.opt -c -o cc_lex.cmx cc_lex.ml\n",
      "ocamlopt.opt -c -o cc.cmx cc.ml\n",
      "+ ocamlopt.opt -c -o cc.cmx cc.ml\n",
      "File \"cc.ml\", line 34, characters 6-7:\n",
      "Warning 26: unused variable t.\n",
      "ocamlopt.opt cc_ast.cmx cc_parse.cmx cc_lex.cmx cc.cmx -o cc.native\n"
     ]
    }
   ],
   "source": [
    "/* ----- 実行せよ / Execute this cell ----- */\n",
    "//% cmd: make"
   ]
  },
  {
   "cell_type": "markdown",
   "metadata": {},
   "source": [
    "# 再ビルド"
   ]
  },
  {
   "cell_type": "code",
   "execution_count": 3,
   "metadata": {},
   "outputs": [
    {
     "name": "stdout",
     "output_type": "stream",
     "text": [
      "rm -rf _build cc.top cc.byte cc.native\n"
     ]
    }
   ],
   "source": [
    "/* ----- 実行せよ / Execute this cell ----- */\n",
    "//% cmd: make clean"
   ]
  },
  {
   "cell_type": "code",
   "execution_count": 4,
   "metadata": {},
   "outputs": [
    {
     "name": "stdout",
     "output_type": "stream",
     "text": [
      "ocamlbuild -use-menhir cc.byte\n",
      "ocamldep.opt -modules cc.ml > cc.ml.depends\n",
      "ocamllex.opt -q cc_lex.mll\n",
      "ocamldep.opt -modules cc_lex.ml > cc_lex.ml.depends\n",
      "menhir --raw-depend --ocamldep 'ocamldep.opt -modules' cc_parse.mly > cc_parse.mly.depends\n",
      "ocamldep.opt -modules cc_ast.ml > cc_ast.ml.depends\n",
      "ocamlc.opt -c -o cc_ast.cmo cc_ast.ml\n",
      "menhir --ocamlc ocamlc.opt --infer cc_parse.mly\n",
      "+ menhir --ocamlc ocamlc.opt --infer cc_parse.mly\n",
      "Warning: one state has shift/reduce conflicts.\n",
      "Warning: one shift/reduce conflict was arbitrarily resolved.\n",
      "ocamldep.opt -modules cc_parse.mli > cc_parse.mli.depends\n",
      "ocamlc.opt -c -o cc_parse.cmi cc_parse.mli\n",
      "ocamlc.opt -c -o cc_lex.cmo cc_lex.ml\n",
      "ocamlc.opt -c -o cc.cmo cc.ml\n",
      "+ ocamlc.opt -c -o cc.cmo cc.ml\n",
      "File \"cc.ml\", line 34, characters 6-7:\n",
      "Warning 26: unused variable t.\n",
      "ocamldep.opt -modules cc_parse.ml > cc_parse.ml.depends\n",
      "ocamlc.opt -c -o cc_parse.cmo cc_parse.ml\n",
      "ocamlc.opt cc_ast.cmo cc_parse.cmo cc_lex.cmo cc.cmo -o cc.byte\n",
      "echo  > cc.top\n",
      "echo \"ocaml -I _build _build/cc_ast.cmo _build/cc_parse.cmo _build/cc_lex.cmo _build/cc.cmo\" >> cc.top\n",
      "chmod +x cc.top\n",
      "ocamlbuild -use-menhir cc.native\n",
      "ocamlopt.opt -c -o cc_ast.cmx cc_ast.ml\n",
      "ocamlopt.opt -c -o cc_parse.cmx cc_parse.ml\n",
      "ocamlopt.opt -c -o cc_lex.cmx cc_lex.ml\n",
      "ocamlopt.opt -c -o cc.cmx cc.ml\n",
      "+ ocamlopt.opt -c -o cc.cmx cc.ml\n",
      "File \"cc.ml\", line 34, characters 6-7:\n",
      "Warning 26: unused variable t.\n",
      "ocamlopt.opt cc_ast.cmx cc_parse.cmx cc_lex.cmx cc.cmx -o cc.native\n"
     ]
    }
   ],
   "source": [
    "/* ----- 実行せよ / Execute this cell ----- */\n",
    "//% cmd: make"
   ]
  },
  {
   "cell_type": "markdown",
   "metadata": {},
   "source": [
    "# 2. 実行"
   ]
  },
  {
   "cell_type": "code",
   "execution_count": 5,
   "metadata": {},
   "outputs": [
    {
     "name": "stdout",
     "output_type": "stream",
     "text": [
      "parsing test/a.c OK\n"
     ]
    }
   ],
   "source": [
    "/* ----- 実行せよ / Execute this cell ----- */\n",
    "//% cmd: ./cc.byte test/a.c"
   ]
  },
  {
   "cell_type": "markdown",
   "metadata": {},
   "source": [
    "* cc_lex.top は対話的処理系(開発, デバッグに便利)\n",
    "* Jupyter 上では実行しないこと (SSH, terminalで実行する)\n",
    "\n",
    "\n",
    "```\n",
    "$ ./cc_lex.top \n",
    "        OCaml version 4.08.1\n",
    "\n",
    "# Cc.parse_file \"test/a.c\";;\n",
    "- : Cc_ast.definition list =\n",
    "[Cc_ast.FUN_DEF\n",
    "  (Cc_ast.TYPE_LONG, \"gcd\",\n",
    "   [(Cc_ast.TYPE_LONG, \"a\"); (Cc_ast.TYPE_LONG, \"b\")],\n",
    "   Cc_ast.STMT_COMPOUND\n",
    "    ([],\n",
    "     [Cc_ast.STMT_IF\n",
    "       (Cc_ast.EXPR_BIN_OP (Cc_ast.BIN_OP_GT, Cc_ast.EXPR_VAR \"a\",\n",
    "         Cc_ast.EXPR_VAR \"b\"),\n",
    "        Cc_ast.STMT_RETURN\n",
    "         (Cc_ast.EXPR_CALL\n",
    "           (\"gcd\", [Cc_ast.EXPR_VAR \"b\"; Cc_ast.EXPR_VAR \"a\"])),\n",
    "        Cc_ast.STMT_EMPTY);\n",
    "      Cc_ast.STMT_WHILE\n",
    "       (Cc_ast.EXPR_BIN_OP (Cc_ast.BIN_OP_NEQ, Cc_ast.EXPR_VAR \"a\",\n",
    "         Cc_ast.EXPR_NUM 0),\n",
    "        Cc_ast.STMT_COMPOUND\n",
    "         ([],\n",
    "          [Cc_ast.STMT_EXPR\n",
    "            (Cc_ast.EXPR_BIN_OP (Cc_ast.BIN_OP_EQ, Cc_ast.EXPR_VAR \"r\",\n",
    "              Cc_ast.EXPR_BIN_OP (Cc_ast.BIN_OP_MOD, Cc_ast.EXPR_VAR \"b\",\n",
    "               Cc_ast.EXPR_VAR \"a\")));\n",
    "           Cc_ast.STMT_EXPR\n",
    "            (Cc_ast.EXPR_BIN_OP (Cc_ast.BIN_OP_EQ, Cc_ast.EXPR_VAR \"b\",\n",
    "              Cc_ast.EXPR_VAR \"a\"));\n",
    "           Cc_ast.STMT_EXPR\n",
    "            (Cc_ast.EXPR_BIN_OP (Cc_ast.BIN_OP_EQ, Cc_ast.EXPR_VAR \"a\",\n",
    "              Cc_ast.EXPR_VAR \"r\"))]));\n",
    "      Cc_ast.STMT_RETURN (Cc_ast.EXPR_VAR \"b\")]))]\n",
    "```"
   ]
  }
 ],
 "metadata": {
  "kernelspec": {
   "display_name": "C",
   "language": "c",
   "name": "c_kernel"
  },
  "language_info": {
   "file_extension": ".c",
   "mimetype": "text/plain",
   "name": "c"
  }
 },
 "nbformat": 4,
 "nbformat_minor": 2
}
